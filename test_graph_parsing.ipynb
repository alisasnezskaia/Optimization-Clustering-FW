{
 "cells": [
  {
   "cell_type": "code",
   "execution_count": 1,
   "id": "af40cde6",
   "metadata": {},
   "outputs": [
    {
     "name": "stdout",
     "output_type": "stream",
     "text": [
      "Adjacency matrix shape: (125, 125)\n"
     ]
    }
   ],
   "source": [
    "from parse_graphs import load_dimacs_graph\n",
    "\n",
    "A = load_dimacs_graph(\"graphs/C125.9.clq\")\n",
    "print(\"Adjacency matrix shape:\", A.shape)\n"
   ]
  },
  {
   "cell_type": "code",
   "execution_count": 4,
   "id": "302d59b5",
   "metadata": {},
   "outputs": [
    {
     "name": "stdout",
     "output_type": "stream",
     "text": [
      "Adjacency matrix shape: (800, 800)\n"
     ]
    }
   ],
   "source": [
    "B= load_dimacs_graph(\"graphs/brock800_4.clq\")\n",
    "print(\"Adjacency matrix shape:\", B.shape)"
   ]
  }
 ],
 "metadata": {
  "kernelspec": {
   "display_name": "base",
   "language": "python",
   "name": "python3"
  },
  "language_info": {
   "codemirror_mode": {
    "name": "ipython",
    "version": 3
   },
   "file_extension": ".py",
   "mimetype": "text/x-python",
   "name": "python",
   "nbconvert_exporter": "python",
   "pygments_lexer": "ipython3",
   "version": "3.12.7"
  }
 },
 "nbformat": 4,
 "nbformat_minor": 5
}
